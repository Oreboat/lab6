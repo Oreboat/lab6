{
 "cells": [
  {
   "cell_type": "markdown",
   "metadata": {},
   "source": [
    " # Lab 6\n",
    "\n",
    "\n",
    "\n",
    " Grover's Search"
   ]
  },
  {
   "cell_type": "markdown",
   "metadata": {},
   "source": [
    " ## Task 1\n",
    "\n",
    "\n",
    " Simple Password Cracking with Grover's Algorithm\n",
    "\n",
    "\n",
    " Scenario: We have a 3-bit password (0-7) and we know its hash.\n",
    "\n",
    " We want to find which password produces that hash.\n",
    "\n",
    "\n",
    " For simplicity, we'll use a toy hash function:\n",
    "\n",
    " `hash(x) = (3*x + 5) mod 8` \n",
    "\n",
    "\n",
    " Target: Find x where hash(x) = 5\n",
    "\n",
    " Answer: hash(0) = (3*0 + 5) mod 8 = 5, so password is 0"
   ]
  },
  {
   "cell_type": "code",
   "execution_count": null,
   "metadata": {},
   "outputs": [],
   "source": [
    "def toy_hash(x):\n",
    "    \"\"\"Hash function with unique preimages: (3*x + 5) mod 8.\"\"\"\n",
    "    return (3 * x + 5) % 8\n",
    "\n"
   ]
  },
  {
   "cell_type": "code",
   "execution_count": null,
   "metadata": {},
   "outputs": [],
   "source": [
    "# Setup\n",
    "n_qubits = 3  # 3-bit password (values 0-7)\n",
    "target_hash = 5  # The hash value we want to find a pre-image for\n",
    "\n"
   ]
  },
  {
   "cell_type": "code",
   "execution_count": null,
   "metadata": {},
   "outputs": [],
   "source": [
    "def classical_preimage_search():\n",
    "    \"\"\"Classically search for a pre-image of the target hash.\"\"\"\n",
    "    for x in range(8):\n",
    "        print(f\"h({x}) = {toy_hash(x)}\")\n",
    "        if toy_hash(x) == target_hash:\n",
    "            return x\n",
    "    return None\n",
    "\n",
    "\n",
    "actual_password = classical_preimage_search()\n",
    "\n"
   ]
  },
  {
   "cell_type": "code",
   "execution_count": null,
   "metadata": {},
   "outputs": [],
   "source": [
    "from qiskit import QuantumCircuit, QuantumRegister, ClassicalRegister, transpile\n",
    "from qiskit.circuit.library import MCMTGate, ZGate\n",
    "from qiskit_aer import AerSimulator\n",
    "import numpy as np\n"
   ]
  },
  {
   "cell_type": "code",
   "execution_count": null,
   "metadata": {},
   "outputs": [],
   "source": [
    "def create_oracle(n_qubits, target_hash):\n",
    "    \"\"\"\n",
    "    Create an oracle that marks states x where hash(x) == target_hash.\n",
    "    This implements: hash(x) = (3*x + 5) mod 8\n",
    "\n",
    "    Hint: You need ancilla qubits to compute the hash and check equality.\n",
    "    \"\"\"\n",
    "\n",
    "    # n_qubits for input, n_qubits for hash output, 1 ancilla for phase kickback\n",
    "    total_qubits = n_qubits + n_qubits + 1\n",
    "    oracle = QuantumCircuit(total_qubits, name=\"Oracle\")\n",
    "\n",
    "    input_qubits = list(range(n_qubits))\n",
    "    hash_qubits = list(range(n_qubits, n_qubits + n_qubits))\n",
    "    phase_qubit = 2 * n_qubits\n",
    "\n",
    "    # Step 1: Compute hash(x) = (3*x + 5) mod 8\n",
    "    # TODO: Multiply by 3. HINT: 3*x = 2*x + x, so use CNOTs for left shift plus addition\n",
    "\n",
    "\n",
    "    # TODO: Add 5. HINT: Use X gates to add constants in binary (5 = 101 in binary)\n",
    "\n",
    "    # Step 2: Check if hash(x) == target_hash\n",
    "    target_binary = format(target_hash, f\"0{n_qubits}b\")\n",
    "\n",
    "    # Flip qubits where target bit is 0 (so we match on |111...>)\n",
    "    for i, bit in enumerate(target_binary):\n",
    "        # TODO: Update here\n",
    "        pass \n",
    "\n",
    "    # TODO: Mark the state with multi-controlled NOT\n",
    "    oracle.mcx(hash_qubits, phase_qubit)\n",
    "\n",
    "    # Unflip the checking bits\n",
    "    for i, bit in enumerate(target_binary):\n",
    "        # TODO: Update  here\n",
    "        pass\n",
    "\n",
    "    # Step 3: Uncompute hash to clean up ancilla\n",
    "    # TODO: Reverse the hash computation steps\n",
    "\n",
    "    return oracle\n",
    "\n"
   ]
  },
  {
   "cell_type": "code",
   "execution_count": null,
   "metadata": {},
   "outputs": [],
   "source": [
    "def create_diffusion(n_qubits):\n",
    "    \"\"\"Create diffusion operator (inversion about average)\"\"\"\n",
    "    diffusion = QuantumCircuit(n_qubits, name=\"Diffusion\")\n",
    "\n",
    "    # TODO: Implement the diffusion operator\n",
    "\n",
    "    # Step 1: Apply H to all qubits\n",
    "\n",
    "\n",
    "    # Step 2: Apply X to all qubits\n",
    "\n",
    "\n",
    "    # Step 3: Multi-controlled Z (using ancilla if needed)\n",
    "\n",
    "\n",
    "\n",
    "\n",
    "\n",
    "    # Step 4: Apply X to all qubits\n",
    "\n",
    "\n",
    "    # Step 5: Apply H to all qubits\n",
    "\n",
    "\n",
    "    return diffusion\n",
    "\n"
   ]
  },
  {
   "cell_type": "code",
   "execution_count": null,
   "metadata": {},
   "outputs": [],
   "source": [
    "# Calculate number of Grover iterations\n",
    "N = 2**n_qubits\n",
    "optimal_iterations = int(np.pi / 4 * np.sqrt(N)) # Since there's 1 solution, otherwise use N/M, where M is the number of solutions\n"
   ]
  },
  {
   "cell_type": "code",
   "execution_count": null,
   "metadata": {},
   "outputs": [],
   "source": [
    "# Build Grover circuit\n",
    "\n",
    "total_qubits = n_qubits + n_qubits + 1  # Input qubits + hash qubits + ancilla\n",
    "qr = QuantumRegister(total_qubits, \"q\")\n",
    "cr = ClassicalRegister(n_qubits, \"c\")  # Only measure the input qubits\n",
    "\n",
    "qc = QuantumCircuit(qr, cr)\n",
    "\n",
    "# TODO: Initialize input qubits to superposition\n",
    "\n",
    "\n",
    "# TODO: Initialize phase qubit to |-⟩ for phase kickback\n",
    "\n",
    "qc.barrier()\n",
    "\n",
    "# Grover iterations\n",
    "oracle = create_oracle(n_qubits, target_hash)\n",
    "diffusion = create_diffusion(n_qubits)\n",
    "\n",
    "for _ in range(optimal_iterations):\n",
    "    # TODO: Apply oracle and diffusion\n",
    "    pass\n",
    "\n",
    "# TODO: Measure input qubits\n",
    "\n",
    "\n"
   ]
  },
  {
   "cell_type": "code",
   "execution_count": null,
   "metadata": {},
   "outputs": [],
   "source": [
    "# Simulate the circuit\n",
    "simulator = AerSimulator()\n",
    "job = simulator.run(transpile(qc, simulator), shots=4096)\n",
    "result = job.result()\n",
    "counts = result.get_counts()\n",
    "\n",
    "sorted_counts = sorted(counts.items(), key=lambda x: x[1], reverse=True)\n",
    "for state, count in sorted_counts:\n",
    "    percentage = count / 4096 * 100\n",
    "    password_guess = int(state, 2)\n",
    "    hash_value = toy_hash(password_guess)\n",
    "    marker = \"✓✓✓\" if password_guess == actual_password else \"\"\n",
    "    print(\n",
    "        f\"  {state} (password={password_guess}): {count:4d} shots ({percentage:5.1f}%) - h({password_guess})={hash_value} {marker}\"\n",
    "    )\n",
    "\n",
    "# Find the most likely password guess\n",
    "most_common = max(counts, key=counts.get)\n",
    "found_password = int(most_common, 2)\n",
    "\n",
    "print(\n",
    "    f\"\\nMost likely password guess: {found_password} (h({found_password})={toy_hash(found_password)})\"\n",
    ")\n"
   ]
  }
 ],
 "metadata": {
  "kernelspec": {
   "display_name": ".venv",
   "language": "python",
   "name": "python3"
  },
  "language_info": {
   "codemirror_mode": {
    "name": "ipython",
    "version": 3
   },
   "file_extension": ".py",
   "mimetype": "text/x-python",
   "name": "python",
   "nbconvert_exporter": "python",
   "pygments_lexer": "ipython3",
   "version": "3.13.7"
  }
 },
 "nbformat": 4,
 "nbformat_minor": 2
}
